{
 "cells": [
  {
   "cell_type": "markdown",
   "metadata": {},
   "source": [
    "# Riddler Express 12/7/18\n",
    "\n",
    "## Problem\n",
    "Louie walks to and from work every day. In his city, there is a 50 percent chance of rain each morning and an independent 40 percent chance each evening. His habit is to bring (and use) an umbrella if it’s raining when he leaves the house or office, but to leave them all behind if not. Louie owns three umbrellas.\n",
    "\n",
    "On Sunday night, two are with him at home and one is at his office. Assuming it never starts raining during his walk to his home or office, what is the probability that he makes it through the work week without getting wet?\n",
    "\n",
    "(https://fivethirtyeight.com/features/the-little-mathematically-determined-house-on-the-prairie/)\n",
    "\n",
    "\n",
    "## Solution\n",
    "This situation can be modeled with a Markov chain. Since we're only concerned with whether or not Louie gets wet (and not *how many times he gets wet*), let's consider a system with nine states (numbered 0 through 8):\n",
    "\n",
    "    state 0: Louie at HOME (3 umbrellas at home, 0 at work)\n",
    "    state 1: Louie at HOME (2 umbrellas at home, 1 at work)\n",
    "    state 2: Louie at HOME (1 umbrellas at home, 2 at work)\n",
    "    state 3: Louie at HOME (0 umbrellas at home, 3 at work)\n",
    "\n",
    "    state 4: Louie at WORK (3 umbrellas at home, 0 at work)\n",
    "    state 5: Louie at WORK (2 umbrellas at home, 1 at work)\n",
    "    state 6: Louie at WORK (1 umbrellas at home, 2 at work)\n",
    "    state 7: Louie at WORK (0 umbrellas at home, 3 at work)\n",
    "\n",
    "    state 8: Louie gets WET\n",
    "    \n",
    "This system transitions to a new state each time Louis goes from home to work or vice versa.\n",
    "\n",
    "Consider state 1, where Louie is at home with two of his umbrellas. If it's raining when Louie leaves for work, he'll bring an umbrella with him from home to work. If it's not raining, he won't. In other words, state 1 has a 50% chance of transitioning to state 6, a 50% chance of transitioning to state 5, and a 0% chance of transitioning to any other state.\n",
    "\n",
    "Suppose the system is in state 1 and then it doesn't rain when Louie goes to work. The system would transition to state 5 (i.e., Louie is at work and he has one umbrella there with him.) Then if it's raining when Louie returns home, he'll bring an umbrella with him and the system moves to state 0; if it's not raining, the umbrellas stay put and the system moves back to state 1. In other words, state 5 has a 40% chance of transitioning to state 0, a 60% chance of transitioning to state 1, and a 0% chance of transitioning to any other state. Etc.\n",
    "\n",
    "We can represent all these transition probabilities with a matrix, *M*, where the element in the *i*-th row and the *j*-th column is the probability of moving from state *i* to state *j* after one transition:"
   ]
  },
  {
   "cell_type": "code",
   "execution_count": 1,
   "metadata": {
    "collapsed": true
   },
   "outputs": [],
   "source": [
    "import numpy as np\n",
    "\n",
    "M = np.array([\n",
    "    [0., 0., 0., 0., .5, .5, 0., 0., 0.],\n",
    "    [0., 0., 0., 0., 0., .5, .5, 0., 0.],\n",
    "    [0., 0., 0., 0., 0., 0., .5, .5, 0.],\n",
    "    [0., 0., 0., 0., 0., 0., 0., .5, .5],\n",
    "    [.6, 0., 0., 0., 0., 0., 0., 0., .4],\n",
    "    [.4, .6, 0., 0., 0., 0., 0., 0., 0.],\n",
    "    [0., .4, .6, 0., 0., 0., 0., 0., 0.],\n",
    "    [0., 0., .4, .6, 0., 0., 0., 0., 0.],\n",
    "    [0., 0., 0., 0., 0., 0., 0., 0., 1.],\n",
    "])"
   ]
  },
  {
   "cell_type": "markdown",
   "metadata": {},
   "source": [
    "Note that if the system transitions to state 8 (the state that indicates that Louie has gotten wet) it stays there. State 8 has a 100% chance of transitioning to state 8, and 0% chance of transitioning to any other state.\n",
    "\n",
    "Ok. The matrix above lets us look up the probability of moving from state *i* to state *j* after one transition. Thanks to **math**, we can compute the probability of moving from state *i* to state *j* after *n* transitions by simply raising *M* to the *n*-th power.\n",
    "\n",
    "Since Louie has 10 trips between home and work over the course of one work week, let's raise *M* to the 10th power and look at row 1, column 8:"
   ]
  },
  {
   "cell_type": "code",
   "execution_count": 2,
   "metadata": {
    "collapsed": false
   },
   "outputs": [
    {
     "data": {
      "text/plain": [
       "0.30730000000000002"
      ]
     },
     "execution_count": 2,
     "metadata": {},
     "output_type": "execute_result"
    }
   ],
   "source": [
    "np.linalg.matrix_power(M, 10)[1, 8]"
   ]
  },
  {
   "cell_type": "markdown",
   "metadata": {},
   "source": [
    "So the probability that Louie gets wet during the week if he starts with two umbrellas at home and one at work is **30.73%**. This means that the probability he doesn't get wet over the course of one work week is **69.27%**."
   ]
  },
  {
   "cell_type": "code",
   "execution_count": 3,
   "metadata": {
    "collapsed": false
   },
   "outputs": [
    {
     "data": {
      "text/plain": [
       "0.6927"
      ]
     },
     "execution_count": 3,
     "metadata": {},
     "output_type": "execute_result"
    }
   ],
   "source": [
    "1 - 0.3073"
   ]
  },
  {
   "cell_type": "markdown",
   "metadata": {},
   "source": [
    "Over time, it's inevitable that Louie gets wet. The graph below shows the probability of Louie staying dry as a function of time."
   ]
  },
  {
   "cell_type": "code",
   "execution_count": 4,
   "metadata": {
    "collapsed": false
   },
   "outputs": [
    {
     "data": {
      "text/plain": [
       "<matplotlib.text.Text at 0x10df5a210>"
      ]
     },
     "execution_count": 4,
     "metadata": {},
     "output_type": "execute_result"
    },
    {
     "data": {
      "image/png": "[encoded data removed]",
      "text/plain": [
       "<matplotlib.figure.Figure at 0x10de90510>"
      ]
     },
     "metadata": {},
     "output_type": "display_data"
    }
   ],
   "source": [
    "import matplotlib.pyplot as plt\n",
    "%matplotlib inline\n",
    "\n",
    "pr = []\n",
    "for d in range(81):\n",
    "    pr.append(1 - np.linalg.matrix_power(M, 2*d)[1, 8])\n",
    "    \n",
    "plt.plot(range(81), pr, 'b')\n",
    "plt.xlabel(\"days\")\n",
    "plt.ylabel(\"probability Louie has stayed dry\")"
   ]
  }
 ],
 "metadata": {
  "kernelspec": {
   "display_name": "Python 2",
   "language": "python",
   "name": "python2"
  },
  "language_info": {
   "codemirror_mode": {
    "name": "ipython",
    "version": 2
   },
   "file_extension": ".py",
   "mimetype": "text/x-python",
   "name": "python",
   "nbconvert_exporter": "python",
   "pygments_lexer": "ipython2",
   "version": "2.7.11"
  }
 },
 "nbformat": 4,
 "nbformat_minor": 2
}
