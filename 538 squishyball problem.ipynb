{
 "cells": [
  {
   "cell_type": "code",
   "execution_count": null,
   "metadata": {
    "collapsed": true
   },
   "outputs": [],
   "source": [
    "'''\n",
    "Congratulations! The Acme Axegrinders, which you own, are the regular \n",
    "season champions of the National Squishyball League (NSL). Your team \n",
    "will now play a championship series against the Boondocks Barbarians, \n",
    "which had the second-best regular season record. You feel good about \n",
    "Acme’s chances in the series because Acme won exactly 60 percent of \n",
    "the hundreds of games it played against Boondocks this season. (The \n",
    "NSL has an incredibly long regular season.) The NSL has two special \n",
    "rules for the playoffs:\n",
    "\n",
    "1.  The owner of the top-seeded team (i.e., you) gets to select the \n",
    "    length of the championship series in advance of the first game, \n",
    "    so you could decide to play a single game, a best two out of three \n",
    "    series, a three out of five series, etc., all the way up to a 50 \n",
    "    out of 99 series.\n",
    "\n",
    "2.  The owner of the winning team gets $1 million minus $10,000 for \n",
    "    each of the victories required to win the series, regardless of \n",
    "    how many games the series lasts in total. Thus, if the top-seeded \n",
    "    team’s owner selects a single-game championship, the winning owner \n",
    "    will collect $990,000. If he or she selects a 4 out of 7 series, \n",
    "    the winning team’s owner will collect $960,000. The owner of the \n",
    "    losing team gets nothing.\n",
    "    \n",
    "Since Acme has a 60 percent chance of winning any individual game against \n",
    "Boondocks, Rule 1 encourages you to opt for a very long series to improve \n",
    "Acme’s chances of winning the series. But Rule 2 means that a long series \n",
    "will mean less winnings for you if Acme does take the series.\n",
    "\n",
    "How long a series should you select in order to maximize your expected \n",
    "winnings? And how much money do you expect to win?\n",
    "'''"
   ]
  },
  {
   "cell_type": "code",
   "execution_count": 1,
   "metadata": {
    "collapsed": true
   },
   "outputs": [],
   "source": [
    "import numpy as np\n",
    "import matplotlib.pyplot as plt\n",
    "%matplotlib inline"
   ]
  },
  {
   "cell_type": "code",
   "execution_count": 2,
   "metadata": {
    "collapsed": true
   },
   "outputs": [],
   "source": [
    "def estimate_expected_value(g, n):\n",
    "    \"\"\"estimates the expected winnings of a best-of-g series\n",
    "    by simulating a best-of-g series n times\n",
    "    \"\"\"\n",
    "    win_p = (np.sum(np.sum(np.random.random([n, g]) < .6, axis=1) >= g//2 + 1))/float(n)\n",
    "    return win_p * (1000000 - 10000 * (g//2 + 1))"
   ]
  },
  {
   "cell_type": "code",
   "execution_count": 3,
   "metadata": {
    "collapsed": false
   },
   "outputs": [
    {
     "data": {
      "text/plain": [
       "[<matplotlib.lines.Line2D at 0x1029e1fd0>]"
      ]
     },
     "execution_count": 3,
     "metadata": {},
     "output_type": "execute_result"
    },
    {
     "data": {
      "image/png": "[encoded data removed]",
      "text/plain": [
       "<matplotlib.figure.Figure at 0x108e7f990>"
      ]
     },
     "metadata": {},
     "output_type": "display_data"
    }
   ],
   "source": [
    "# Let's use the estimate_expected_value function to get a rough\n",
    "# idea of which series length is optimal:\n",
    "\n",
    "series_lengths = range(1, 100, 2)\n",
    "exp_values = [estimate_expected_value(g, 100000) for g in series_lengths]\n",
    "\n",
    "plt.plot(series_lengths, exp_values, 'go')"
   ]
  },
  {
   "cell_type": "code",
   "execution_count": 4,
   "metadata": {
    "collapsed": false
   },
   "outputs": [
    {
     "data": {
      "text/plain": [
       "[<matplotlib.lines.Line2D at 0x1038fbe10>]"
      ]
     },
     "execution_count": 4,
     "metadata": {},
     "output_type": "execute_result"
    },
    {
     "data": {
      "image/png": "[encoded data removed]",
      "text/plain": [
       "<matplotlib.figure.Figure at 0x102a17190>"
      ]
     },
     "metadata": {},
     "output_type": "display_data"
    }
   ],
   "source": [
    "# It looks like the optimal series length is between 17 and 33.\n",
    "# Let's get more accurate estimates for these series:\n",
    "\n",
    "exp_values_17_thru_33 = [estimate_expected_value(g, 5000000) for g in range(17, 34, 2)]\n",
    "plt.plot(range(17, 34, 2), exp_values_17_thru_33, 'go')"
   ]
  },
  {
   "cell_type": "code",
   "execution_count": 5,
   "metadata": {
    "collapsed": false
   },
   "outputs": [
    {
     "data": {
      "text/plain": [
       "[<matplotlib.lines.Line2D at 0x109babe50>]"
      ]
     },
     "execution_count": 5,
     "metadata": {},
     "output_type": "execute_result"
    },
    {
     "data": {
      "image/png": "[encoded data removed]",
      "text/plain": [
       "<matplotlib.figure.Figure at 0x103914050>"
      ]
     },
     "metadata": {},
     "output_type": "display_data"
    }
   ],
   "source": [
    "# Alright! It looks like a best-of-25 series has the highest\n",
    "# expected value. Let's only focus on best-of-23, -25, and -27\n",
    "# series and try to get even more accurate estimates:\n",
    "\n",
    "exp_values_23_thru_27 = [estimate_expected_value(g, 25000000) for g in range(23, 28, 2)]\n",
    "plt.plot(range(23, 28, 2), exp_values_23_thru_27, 'mo')"
   ]
  },
  {
   "cell_type": "code",
   "execution_count": 6,
   "metadata": {
    "collapsed": false
   },
   "outputs": [
    {
     "name": "stdout",
     "output_type": "stream",
     "text": [
      "736217.04804\n"
     ]
    }
   ],
   "source": [
    "# Best-of-25 it is! Let's get one final estimate of the expected winnings\n",
    "# for a best-of-25 series (by simulating it 250 million times...):\n",
    "\n",
    "exp_vals = []\n",
    "for i in range(5):\n",
    "    exp_vals.append(estimate_expected_value(25, 50000000))\n",
    "\n",
    "print np.mean(exp_vals)"
   ]
  }
 ],
 "metadata": {
  "kernelspec": {
   "display_name": "Python 2",
   "language": "python",
   "name": "python2"
  },
  "language_info": {
   "codemirror_mode": {
    "name": "ipython",
    "version": 2
   },
   "file_extension": ".py",
   "mimetype": "text/x-python",
   "name": "python",
   "nbconvert_exporter": "python",
   "pygments_lexer": "ipython2",
   "version": "2.7.11"
  }
 },
 "nbformat": 4,
 "nbformat_minor": 0
}
