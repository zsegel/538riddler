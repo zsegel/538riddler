{
 "cells": [
  {
   "cell_type": "markdown",
   "metadata": {},
   "source": [
    "# Riddler Classic (12/8/2017)"
   ]
  },
  {
   "cell_type": "markdown",
   "metadata": {},
   "source": [
    "You are throwing darts at a dartboard that has a radius of 1 foot. \n",
    "Due to a gift of miraculous marksmanship, your darts always fall \n",
    "on the board and never outside. (Darts can land on the very edge \n",
    "of the circular board, and if they do they’re considered as landing \n",
    "inside the scoring area.) Furthermore, your chances of hitting any \n",
    "area on the board are exactly proportional to the area of the patch \n",
    "— your darts land according to a uniform probability distribution.\n",
    "\n",
    "You keep throwing darts until your nth dart hits a location that is \n",
    "less than 1 foot from some other dart. You are then “out,” and n-1 \n",
    "is your final score. Here are three questions of increasing difficulty \n",
    "about this game:"
   ]
  },
  {
   "cell_type": "markdown",
   "metadata": {},
   "source": [
    "### 1. What is the maximum possible score?\n",
    "\n",
    "The maximum possible score is 7. To score a 7, put 1 dart in the exact center of the board, and then put 6 darts on the very edge of the board such that the distance between each dart and the darts on either side of it is exactly 1 foot."
   ]
  },
  {
   "cell_type": "markdown",
   "metadata": {},
   "source": [
    "### 2. What is the probability of getting a score greater than 1 (i.e., that the second dart falls more than 1 foot away from the first)?\n",
    "\n",
    "There's about a 22.28% chance of scoring more than 1."
   ]
  },
  {
   "cell_type": "code",
   "execution_count": 1,
   "metadata": {
    "collapsed": false
   },
   "outputs": [
    {
     "data": {
      "text/plain": [
       "0.222810732"
      ]
     },
     "execution_count": 1,
     "metadata": {},
     "output_type": "execute_result"
    }
   ],
   "source": [
    "import numpy as np\n",
    "\n",
    "def throw_a_billion_darts():\n",
    "    \n",
    "    def throw_darts(n):\n",
    "        '''n is the number times you want to simulate throwing two darts'''\n",
    "\n",
    "        # generate arrays that represent n pairs of random polar coordinates\n",
    "        thetas = np.random.uniform(0, 2*np.pi, [n,2])\n",
    "        rs = np.random.random([n, 2])\n",
    "\n",
    "        # calculate distance between each pair of coordinates\n",
    "        ds = np.sqrt(np.sum(np.square(rs), axis=1) - 2*np.prod(rs, axis=1) * np.cos(np.diff(thetas)).reshape(n))\n",
    "\n",
    "        # count how many distances are greater than 1 \n",
    "        return np.count_nonzero(ds > 1)\n",
    "\n",
    "    total = 0\n",
    "    for i in range(500):\n",
    "        total += throw_darts(1000000)\n",
    "\n",
    "    return total/500000000.\n",
    "\n",
    "throw_a_billion_darts()"
   ]
  },
  {
   "cell_type": "markdown",
   "metadata": {},
   "source": [
    "### 3. What is the expected value of your score?\n",
    "\n",
    "The expected value of your score is about 1.24 points."
   ]
  },
  {
   "cell_type": "code",
   "execution_count": 2,
   "metadata": {
    "collapsed": false
   },
   "outputs": [
    {
     "data": {
      "text/plain": [
       "1.2393320000000001"
      ]
     },
     "execution_count": 2,
     "metadata": {},
     "output_type": "execute_result"
    }
   ],
   "source": [
    "import itertools\n",
    "\n",
    "def point():\n",
    "    \"\"\"throw a dart\"\"\"\n",
    "    r = np.random.rand()\n",
    "    theta = np.random.uniform(0, 2*np.pi)\n",
    "    return r*np.cos(theta), r*np.sin(theta)\n",
    "\n",
    "def dist(a, b):\n",
    "    \"\"\"calculate distance between two darts\"\"\"\n",
    "    return np.sqrt((a[0] - b[0])**2 + (a[1] - b[1])**2)\n",
    "\n",
    "def play_one():\n",
    "    \"\"\"simulate one game\"\"\"\n",
    "    points = [point(), point()]\n",
    "    while np.sum(np.asarray([dist(p[0], p[1]) for p in list(itertools.combinations(points, 2))]) < 1) == 0:\n",
    "        points.append(point())\n",
    "    else:\n",
    "        return len(points) - 1\n",
    "    \n",
    "def play_many(n):\n",
    "    \"\"\"simulate the game repeatedly\"\"\"\n",
    "    results = []\n",
    "    for i in range(n):\n",
    "        results.append(play_one())\n",
    "    return np.mean(results)\n",
    "\n",
    "play_many(1000000)"
   ]
  }
 ],
 "metadata": {
  "kernelspec": {
   "display_name": "Python 2",
   "language": "python",
   "name": "python2"
  },
  "language_info": {
   "codemirror_mode": {
    "name": "ipython",
    "version": 2
   },
   "file_extension": ".py",
   "mimetype": "text/x-python",
   "name": "python",
   "nbconvert_exporter": "python",
   "pygments_lexer": "ipython2",
   "version": "2.7.11"
  }
 },
 "nbformat": 4,
 "nbformat_minor": 2
}
