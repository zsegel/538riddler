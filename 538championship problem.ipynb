{
 "cells": [
  {
   "cell_type": "code",
   "execution_count": 1,
   "metadata": {
    "collapsed": true
   },
   "outputs": [],
   "source": [
    "import numpy as np\n",
    "import matplotlib.pyplot as plt\n",
    "%matplotlib inline"
   ]
  },
  {
   "cell_type": "code",
   "execution_count": null,
   "metadata": {
    "collapsed": true
   },
   "outputs": [],
   "source": [
    "'''\n",
    "Congratulations! The Acme Axegrinders, which you own, are the regular \n",
    "season champions of the National Squishyball League (NSL). Your team \n",
    "will now play a championship series against the Boondocks Barbarians, \n",
    "which had the second-best regular season record. You feel good about \n",
    "Acme’s chances in the series because Acme won exactly 60 percent of \n",
    "the hundreds of games it played against Boondocks this season. (The \n",
    "NSL has an incredibly long regular season.) The NSL has two special \n",
    "rules for the playoffs:\n",
    "\n",
    "1.  The owner of the top-seeded team (i.e., you) gets to select the \n",
    "    length of the championship series in advance of the first game, \n",
    "    so you could decide to play a single game, a best two out of three \n",
    "    series, a three out of five series, etc., all the way up to a 50 \n",
    "    out of 99 series.\n",
    "\n",
    "2.  The owner of the winning team gets $1 million minus $10,000 for \n",
    "    each of the victories required to win the series, regardless of \n",
    "    how many games the series lasts in total. Thus, if the top-seeded \n",
    "    team’s owner selects a single-game championship, the winning owner \n",
    "    will collect $990,000. If he or she selects a 4 out of 7 series, \n",
    "    the winning team’s owner will collect $960,000. The owner of the \n",
    "    losing team gets nothing.\n",
    "    \n",
    "Since Acme has a 60 percent chance of winning any individual game against \n",
    "Boondocks, Rule 1 encourages you to opt for a very long series to improve \n",
    "Acme’s chances of winning the series. But Rule 2 means that a long series \n",
    "will mean less winnings for you if Acme does take the series.\n",
    "\n",
    "How long a series should you select in order to maximize your expected \n",
    "winnings? And how much money do you expect to win?\n",
    "'''"
   ]
  },
  {
   "cell_type": "code",
   "execution_count": 2,
   "metadata": {
    "collapsed": true
   },
   "outputs": [],
   "source": [
    "def play_one_series(g):\n",
    "    \"\"\"simulates one best-out-of-g series and returns Acme's winnings\"\"\"\n",
    "\n",
    "    wins = 0\n",
    "    losses = 0\n",
    "    \n",
    "    while wins < (g // 2) + 1 and losses < (g // 2) + 1:\n",
    "        if np.random.rand() <= 0.6:\n",
    "            wins += 1\n",
    "        else:\n",
    "            losses += 1\n",
    "    else:\n",
    "        if wins > losses:\n",
    "            return 1000000 - (10000 * g)  # winnings == 1000000 - (10000 * g)\n",
    "        else:\n",
    "            return 0\n",
    "        \n",
    "        \n",
    "def play_many(g, number_of_sims):\n",
    "    \"\"\"estimates the expected value of the winnings\n",
    "     for a best-out-of-g series\n",
    "    \"\"\"\n",
    "    \n",
    "    winnings = 0\n",
    "    for i in range(number_of_sims):\n",
    "        winnings += play_one_series(g)\n",
    "\n",
    "    return winnings/float(number_of_sims)"
   ]
  },
  {
   "cell_type": "code",
   "execution_count": 5,
   "metadata": {
    "collapsed": false
   },
   "outputs": [
    {
     "data": {
      "text/plain": [
       "[<matplotlib.lines.Line2D at 0x10e5b2890>]"
      ]
     },
     "execution_count": 5,
     "metadata": {},
     "output_type": "execute_result"
    },
    {
     "data": {
      "image/png": "[encoded data removed]",
      "text/plain": [
       "<matplotlib.figure.Figure at 0x108e88190>"
      ]
     },
     "metadata": {},
     "output_type": "display_data"
    }
   ],
   "source": [
    "# Let's use the play_many function to get a rough idea of the\n",
    "# expected winnings of series of different lengths:\n",
    "\n",
    "all_possible_series_lengths = range(1, 100, 2)\n",
    "rough_expected_winnings = [play_many(g, 3000) for g in all_possible_series_lengths]\n",
    "\n",
    "plt.plot(all_possible_series_lengths, rough_expected_winnings, 'bo')"
   ]
  },
  {
   "cell_type": "code",
   "execution_count": 6,
   "metadata": {
    "collapsed": false
   },
   "outputs": [
    {
     "data": {
      "text/plain": [
       "[<matplotlib.lines.Line2D at 0x10e6a1690>]"
      ]
     },
     "execution_count": 6,
     "metadata": {},
     "output_type": "execute_result"
    },
    {
     "data": {
      "image/png": "[encoded data removed]",
      "text/plain": [
       "<matplotlib.figure.Figure at 0x10e62f650>"
      ]
     },
     "metadata": {},
     "output_type": "display_data"
    }
   ],
   "source": [
    "# Ok. It looks like the series with the highest\n",
    "# expected value is somewhere between 5 and 21. \n",
    "# Let's focus on those series and run some more\n",
    "# extensive (i.e., more accurate) simulations:\n",
    "\n",
    "series_lengths_5_thru_21 = range(5, 22, 2)\n",
    "expected_winnings_5_thru_21 = [play_many(g, 250000) for g in series_lengths_5_thru_21]\n",
    "\n",
    "plt.plot(series_lengths_5_thru_21, expected_winnings_5_thru_21, 'bo')"
   ]
  },
  {
   "cell_type": "code",
   "execution_count": 7,
   "metadata": {
    "collapsed": false
   },
   "outputs": [
    {
     "data": {
      "text/plain": [
       "[<matplotlib.lines.Line2D at 0x10f01bdd0>]"
      ]
     },
     "execution_count": 7,
     "metadata": {},
     "output_type": "execute_result"
    },
    {
     "data": {
      "image/png": "[encoded data removed]",
      "text/plain": [
       "<matplotlib.figure.Figure at 0x10e625d50>"
      ]
     },
     "metadata": {},
     "output_type": "display_data"
    }
   ],
   "source": [
    "# Let's narrow our focus again and only look at\n",
    "# series that are 9, 11, 13, and 15 games long:\n",
    "\n",
    "series_lengths_9_thru_15 = range(9, 16, 2)\n",
    "expected_winnings_9_thru_15 = [play_many(g, 10000000) for g in series_lengths_9_thru_15]\n",
    "\n",
    "plt.plot(series_lengths_9_thru_15, expected_winnings_9_thru_15, 'bo')"
   ]
  },
  {
   "cell_type": "code",
   "execution_count": 8,
   "metadata": {
    "collapsed": false
   },
   "outputs": [
    {
     "name": "stdout",
     "output_type": "stream",
     "text": [
      "Expected winnings for best-out-of-11 series: 670753.7332\n",
      "Expected winnings for best-out-of-13 series: 670937.5446\n"
     ]
    }
   ],
   "source": [
    "# Alright! It looks like a best-out-of-13 series has the highest\n",
    "# expected winnings, and a best-out-of-11 series has the\n",
    "# second-highest expected winnings. \n",
    "\n",
    "# Let's run a final round of simulations to get even more \n",
    "# accurate estimates for 11- and 13-game series.\n",
    "\n",
    "exp_winnings_11 = play_many(11, 50000000)\n",
    "exp_winnings_13 = play_many(13, 50000000)\n",
    "\n",
    "print \"Expected winnings for best-out-of-11 series:\", exp_winnings_11\n",
    "print \"Expected winnings for best-out-of-13 series:\", exp_winnings_13"
   ]
  },
  {
   "cell_type": "code",
   "execution_count": null,
   "metadata": {
    "collapsed": false
   },
   "outputs": [],
   "source": [
    "# So we have some answers!\n",
    "#\n",
    "# Q: How long a series should you select in order to maximize \n",
    "#    your expected winnings? \n",
    "# A: 13 games\n",
    "#\n",
    "# Q: And how much money do you expect to win?\n",
    "# A: About $670,900"
   ]
  }
 ],
 "metadata": {
  "kernelspec": {
   "display_name": "Python 2",
   "language": "python",
   "name": "python2"
  },
  "language_info": {
   "codemirror_mode": {
    "name": "ipython",
    "version": 2
   },
   "file_extension": ".py",
   "mimetype": "text/x-python",
   "name": "python",
   "nbconvert_exporter": "python",
   "pygments_lexer": "ipython2",
   "version": "2.7.11"
  }
 },
 "nbformat": 4,
 "nbformat_minor": 0
}
