{
 "cells": [
  {
   "cell_type": "markdown",
   "metadata": {},
   "source": [
    "# Beating the Game Show"
   ]
  },
  {
   "cell_type": "markdown",
   "metadata": {},
   "source": [
    "This is a solution to the Riddler Classic problem found here: https://fivethirtyeight.com/features/can-you-beat-the-game-show/\n",
    "\n",
    "I approached this problem in a pretty lazy, brute-force, non-theoretical way, and then used some not-completely-airtight reasoning to arrive at what I believe is the correct solution to the \"extra credit\" question.\n",
    "\n",
    "Ok. We got four boxes and four names:"
   ]
  },
  {
   "cell_type": "code",
   "execution_count": 1,
   "metadata": {
    "collapsed": true
   },
   "outputs": [],
   "source": [
    "boxes = [1, 2, 3, 4]\n",
    "names = ['A', 'B', 'C', 'D']"
   ]
  },
  {
   "cell_type": "markdown",
   "metadata": {},
   "source": [
    "I used the itertools module to make three lists:\n",
    "1. All the ways the names can be arranged in the boxes\n",
    "2. All the ways a single player can pick two of the four boxes\n",
    "3. All the ways that all four players can pick their boxes"
   ]
  },
  {
   "cell_type": "code",
   "execution_count": 2,
   "metadata": {
    "collapsed": false
   },
   "outputs": [],
   "source": [
    "import itertools\n",
    "\n",
    "name_orders = list(itertools.permutations(names))\n",
    "individual_strategies = list(itertools.combinations(boxes, 2))\n",
    "group_strategies = list(itertools.product(individual_strategies, repeat=4))"
   ]
  },
  {
   "cell_type": "markdown",
   "metadata": {},
   "source": [
    "There are 1296 possible group strategies:"
   ]
  },
  {
   "cell_type": "code",
   "execution_count": 3,
   "metadata": {
    "collapsed": false
   },
   "outputs": [
    {
     "data": {
      "text/plain": [
       "1296"
      ]
     },
     "execution_count": 3,
     "metadata": {},
     "output_type": "execute_result"
    }
   ],
   "source": [
    "len(group_strategies)"
   ]
  },
  {
   "cell_type": "markdown",
   "metadata": {},
   "source": [
    "Let's take a look at an example of what a group strategy looks like."
   ]
  },
  {
   "cell_type": "code",
   "execution_count": 4,
   "metadata": {
    "collapsed": false
   },
   "outputs": [
    {
     "data": {
      "text/plain": [
       "((2, 3), (2, 4), (1, 3), (1, 4))"
      ]
     },
     "execution_count": 4,
     "metadata": {},
     "output_type": "execute_result"
    }
   ],
   "source": [
    "group_strategies[800]"
   ]
  },
  {
   "cell_type": "markdown",
   "metadata": {},
   "source": [
    "This means that the 800th strategy in our list of 1296 strategies is:\n",
    "- A picks boxes 2 and 3\n",
    "- B picks boxes 2 and 4\n",
    "- C picks boxes 1 and 3\n",
    "- D picks boxes 1 and 4\n",
    "\n",
    "Moving along... here's a function that tests a strategy by seeing how it does against all possible arrangements of names in the boxes:"
   ]
  },
  {
   "cell_type": "code",
   "execution_count": 5,
   "metadata": {
    "collapsed": true
   },
   "outputs": [],
   "source": [
    "def eval_strategy(s):\n",
    "    '''Calculate probability that strategy s will win.'''\n",
    "    wins = 0\n",
    "    for order in name_orders:\n",
    "        wins += sum([order.index(names[i])+1 in s[i] for i in range(4)]) == 4\n",
    "    return wins / float(len(name_orders))"
   ]
  },
  {
   "cell_type": "markdown",
   "metadata": {},
   "source": [
    "Let's evaluate all of our strategies. What's the best we can do?"
   ]
  },
  {
   "cell_type": "code",
   "execution_count": 6,
   "metadata": {
    "collapsed": false
   },
   "outputs": [
    {
     "data": {
      "text/plain": [
       "0.16666666666666666"
      ]
     },
     "execution_count": 6,
     "metadata": {},
     "output_type": "execute_result"
    }
   ],
   "source": [
    "results = [eval_strategy(s) for s in group_strategies]\n",
    "max(results)"
   ]
  },
  {
   "cell_type": "markdown",
   "metadata": {},
   "source": [
    "There are some strategies that give us a 16.66 percent chance of winning.\n",
    "Let's take a look at all the ones that do that."
   ]
  },
  {
   "cell_type": "code",
   "execution_count": 7,
   "metadata": {
    "collapsed": false
   },
   "outputs": [
    {
     "data": {
      "text/plain": [
       "[((1, 2), (1, 2), (3, 4), (3, 4)),\n",
       " ((1, 2), (3, 4), (1, 2), (3, 4)),\n",
       " ((1, 2), (3, 4), (3, 4), (1, 2)),\n",
       " ((1, 3), (1, 3), (2, 4), (2, 4)),\n",
       " ((1, 3), (2, 4), (1, 3), (2, 4)),\n",
       " ((1, 3), (2, 4), (2, 4), (1, 3)),\n",
       " ((1, 4), (1, 4), (2, 3), (2, 3)),\n",
       " ((1, 4), (2, 3), (1, 4), (2, 3)),\n",
       " ((1, 4), (2, 3), (2, 3), (1, 4)),\n",
       " ((2, 3), (1, 4), (1, 4), (2, 3)),\n",
       " ((2, 3), (1, 4), (2, 3), (1, 4)),\n",
       " ((2, 3), (2, 3), (1, 4), (1, 4)),\n",
       " ((2, 4), (1, 3), (1, 3), (2, 4)),\n",
       " ((2, 4), (1, 3), (2, 4), (1, 3)),\n",
       " ((2, 4), (2, 4), (1, 3), (1, 3)),\n",
       " ((3, 4), (1, 2), (1, 2), (3, 4)),\n",
       " ((3, 4), (1, 2), (3, 4), (1, 2)),\n",
       " ((3, 4), (3, 4), (1, 2), (1, 2))]"
      ]
     },
     "execution_count": 7,
     "metadata": {},
     "output_type": "execute_result"
    }
   ],
   "source": [
    "[group_strategies[i] for i in range(1296) if results[i] == max(results)]"
   ]
  },
  {
   "cell_type": "markdown",
   "metadata": {},
   "source": [
    "So these are all the optimal strategies. Note that all of these strategies follow the same general plan: <b>divide all the players up evenly into two groups, have every member of the first group look in the same set of boxes, and have every member of the second group look in the set of boxes that the first group didn't look in.</b>\n",
    "\n",
    "Does this strategy generalize to situations with more players and boxes? Yeah! Seems like it! I used the lazy, brute-force method to analyze the game when there are six players and six boxes and found that the \"half the players choose one set, half the players choose the other set\" method is still optimal.\n",
    "\n",
    "So let's assume that it's optimal for the 100 player, 100 boxes game. Here's our strategy: \n",
    "- The first 50 players look for their names in boxes {1, 2, ... , 50}\n",
    "- The next 50 players look for their names in boxes {51, 52, ..., 100}\n",
    "\n",
    "The probability of winning with this strategy is the probability of drawing (without replacement) 50 consecutive red balls from a bag that is originally filled with 50 red balls and 50 blue balls, i.e., (50/100) × (49/99) × (48/98) × ... × (1/51).\n",
    "\n",
    "In other words, it's this number:"
   ]
  },
  {
   "cell_type": "code",
   "execution_count": 8,
   "metadata": {
    "collapsed": false
   },
   "outputs": [
    {
     "data": {
      "text/plain": [
       "9.911653021418339e-30"
      ]
     },
     "execution_count": 8,
     "metadata": {},
     "output_type": "execute_result"
    }
   ],
   "source": [
    "reduce(lambda x, y: x*y, range(1, 51))/float(reduce(lambda x, y: x*y, range(51, 101)))"
   ]
  },
  {
   "cell_type": "markdown",
   "metadata": {},
   "source": [
    "... which represents a chance of winning that's 12.5 times greater than the naive strategy:"
   ]
  },
  {
   "cell_type": "code",
   "execution_count": 9,
   "metadata": {
    "collapsed": false
   },
   "outputs": [
    {
     "data": {
      "text/plain": [
       "12.5645129018549"
      ]
     },
     "execution_count": 9,
     "metadata": {},
     "output_type": "execute_result"
    }
   ],
   "source": [
    "9.911653021418339e-30 / float(0.5**100)"
   ]
  }
 ],
 "metadata": {
  "kernelspec": {
   "display_name": "Python 2",
   "language": "python",
   "name": "python2"
  },
  "language_info": {
   "codemirror_mode": {
    "name": "ipython",
    "version": 2
   },
   "file_extension": ".py",
   "mimetype": "text/x-python",
   "name": "python",
   "nbconvert_exporter": "python",
   "pygments_lexer": "ipython2",
   "version": "2.7.11"
  }
 },
 "nbformat": 4,
 "nbformat_minor": 2
}
